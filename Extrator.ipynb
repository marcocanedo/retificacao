{
 "cells": [
  {
   "cell_type": "markdown",
   "metadata": {},
   "source": [
    "# Projeto Retificação\n",
    "   > Conversão PDF em Txt"
   ]
  },
  {
   "cell_type": "markdown",
   "metadata": {
    "toc": true
   },
   "source": [
    "<h1>Índice<span class=\"tocSkip\"></span></h1>\n",
    "<div class=\"toc\"><ul class=\"toc-item\"><li><span><a href=\"#Coversão-dos-aqruivos-PDF-em-TXT-(Multiplos-Arquivos)\" data-toc-modified-id=\"Coversão-dos-aqruivos-PDF-em-TXT-(Multiplos-Arquivos)-1\"><span class=\"toc-item-num\">1&nbsp;&nbsp;</span>Coversão dos aqruivos PDF em TXT (Multiplos Arquivos)</a></span></li><li><span><a href=\"#Lista-dos-Anexos-Implemenados\" data-toc-modified-id=\"Lista-dos-Anexos-Implemenados-2\"><span class=\"toc-item-num\">2&nbsp;&nbsp;</span>Lista dos Anexos Implemenados</a></span></li><li><span><a href=\"#Identificação-dos-Anexos\" data-toc-modified-id=\"Identificação-dos-Anexos-3\"><span class=\"toc-item-num\">3&nbsp;&nbsp;</span>Identificação dos Anexos</a></span></li><li><span><a href=\"#Teste\" data-toc-modified-id=\"Teste-4\"><span class=\"toc-item-num\">4&nbsp;&nbsp;</span>Teste</a></span></li><li><span><a href=\"#Lista-de-Pendêcias\" data-toc-modified-id=\"Lista-de-Pendêcias-5\"><span class=\"toc-item-num\">5&nbsp;&nbsp;</span>Lista de Pendêcias</a></span></li></ul></div>"
   ]
  },
  {
   "cell_type": "markdown",
   "metadata": {},
   "source": [
    "## Coversão dos aqruivos PDF em TXT (Multiplos Arquivos)"
   ]
  },
  {
   "cell_type": "code",
   "execution_count": null,
   "metadata": {
    "cell_style": "center",
    "code_folding": []
   },
   "outputs": [],
   "source": [
    "tags: #A\n",
    "\n",
    "from pdfminer.pdfinterp import PDFResourceManager, PDFPageInterpreter\n",
    "from pdfminer.converter import HTMLConverter, TextConverter, XMLConverter\n",
    "from pdfminer.layout import LAParams\n",
    "from pdfminer.pdfpage import PDFPage\n",
    "import io\n",
    "import os\n",
    "import sys, getopt\n",
    "import re\n",
    "\n",
    "\n",
    "def convert(fname, pages=None, case='text'):\n",
    "    if not pages: pagenums = set()\n",
    "    else: pagenums = set(pages)\n",
    "    manager = PDFResourceManager()\n",
    "    codec = 'utf-8'\n",
    "    caching = True\n",
    "    if case == 'text':\n",
    "        output = io.StringIO()\n",
    "        converter = TextConverter(\n",
    "            manager, output, codec=codec, laparams=LAParams())\n",
    "    if case == 'HTML':\n",
    "        output = io.BytesIO()\n",
    "        converter = HTMLConverter(\n",
    "            manager, output, codec=codec, laparams=LAParams())\n",
    "\n",
    "    interpreter = PDFPageInterpreter(manager, converter)\n",
    "    infile = open(fname, 'rb')\n",
    "    for page in PDFPage.get_pages(\n",
    "            infile, pagenums, caching=caching, check_extractable=True):\n",
    "        interpreter.process_page(page)\n",
    "\n",
    "    convertedPDF = output.getvalue()\n",
    "\n",
    "    infile.close()\n",
    "    converter.close()\n",
    "    output.close()\n",
    "    return convertedPDF\n",
    "\n",
    "\n",
    "def convertMultiple(pdfDir):\n",
    "    lista_arquivos = []\n",
    "    if pdfDir == \"\": pdfDir = os.getcwd() + \"\\\\\"  #if no pdfDir passed in\n",
    "    for pdf in os.listdir(pdfDir):  #iterate through pdfs in pdf directory\n",
    "        fileExtension = pdf.split(\".\")[-1]\n",
    "        if fileExtension == \"pdf\" or fileExtension == \"PDF\":\n",
    "            pdfFilename = pdfDir + pdf\n",
    "            lista_arquivos.append(\n",
    "                convert(pdfFilename))  #recupera o texto do PDF e anexa a lista\n",
    "    return lista_arquivos"
   ]
  },
  {
   "cell_type": "markdown",
   "metadata": {},
   "source": [
    "## Lista dos Anexos Implemenados"
   ]
  },
  {
   "cell_type": "code",
   "execution_count": null,
   "metadata": {},
   "outputs": [],
   "source": [
    "Titulo = ['ANEXO III']"
   ]
  },
  {
   "cell_type": "markdown",
   "metadata": {},
   "source": [
    "## Identificação dos Anexos"
   ]
  },
  {
   "cell_type": "code",
   "execution_count": null,
   "metadata": {},
   "outputs": [],
   "source": [
    "def Indentifica_anexos(keys, anexos):\n",
    "\n",
    "    anexos_dic = {}\n",
    "    for key in keys:\n",
    "        for anexo in anexos:\n",
    "            if key in anexo:\n",
    "                if key in anexos_dic:\n",
    "                    anexos_dic[key].append(anexo)\n",
    "                else:\n",
    "                    anexos_dic[key] = [anexo]\n",
    "    return anexos_dic"
   ]
  },
  {
   "cell_type": "markdown",
   "metadata": {},
   "source": [
    "## Teste"
   ]
  },
  {
   "cell_type": "code",
   "execution_count": null,
   "metadata": {},
   "outputs": [],
   "source": []
  },
  {
   "cell_type": "code",
   "execution_count": 42,
   "metadata": {
    "cell_style": "center",
    "code_folding": [],
    "scrolled": false
   },
   "outputs": [
    {
     "ename": "SyntaxError",
     "evalue": "invalid syntax (<ipython-input-42-9c3e9019397a>, line 1)",
     "output_type": "error",
     "traceback": [
      "\u001b[1;36m  File \u001b[1;32m\"<ipython-input-42-9c3e9019397a>\"\u001b[1;36m, line \u001b[1;32m1\u001b[0m\n\u001b[1;33m    tags: #B,=>A\u001b[0m\n\u001b[1;37m                ^\u001b[0m\n\u001b[1;31mSyntaxError\u001b[0m\u001b[1;31m:\u001b[0m invalid syntax\n"
     ]
    }
   ],
   "source": [
    "tags: #B, =>A\n",
    "\n",
    "pdfDir = \"C:/Users/01481911775/Documents/Pessoal/SECOM/projetos/Ressarcimento/SCANC/retificao/PDF/\"\n",
    "anexos = convertMultiple(pdfDir)"
   ]
  },
  {
   "cell_type": "code",
   "execution_count": null,
   "metadata": {},
   "outputs": [],
   "source": []
  },
  {
   "cell_type": "code",
   "execution_count": null,
   "metadata": {},
   "outputs": [],
   "source": [
    "print(len(Indentifica_anexos(keys=['ANEXO III'],anexos=anexos)['ANEXO III']))"
   ]
  },
  {
   "cell_type": "markdown",
   "metadata": {},
   "source": [
    "  ## Lista de Pendêcias\n",
    "  \n",
    "   __Lista de Ocorrência que não foram tratadas__\n",
    "  \n",
    "  1. __Retificação__ \n",
    "      1. Agrupar os Anexos;\n",
    "          *. Lista dos Anexos que estão implementados\n",
    "          *. Criar fução para separar os anexos;\n",
    "      1. Separar os tipos de Anexos;\n",
    "          *. Identificar os campos de valores; \n",
    "      1. Validar os anexos;\n",
    "      1. Gravar em tabelas os anexos retificados;\n",
    "  1. __Migração do access__;\n",
    "      1. Gerar a tabela de migração em csv;\n",
    "      1. Replicar as consultas do Access;\n",
    "      1. Revisar as consultas;"
   ]
  },
  {
   "cell_type": "code",
   "execution_count": null,
   "metadata": {},
   "outputs": [],
   "source": [
    "# separa por tipo de anexo\n",
    "            if 'ANEXO III' in text:\n",
    "                \n",
    "                #recupera os campos principais\n",
    "                \n",
    "                print(pdf)\n",
    "                #print(text)\n",
    "                \n",
    "                #CPJH\n",
    "                n_cnpjh= text.find('CNPJ........:') + 13\n",
    "                print('\\t\\n CNPJH: %s'% text[n_cnpjh:(n_cnpjh+18)])\n",
    "                \n",
    "                #IEH\n",
    "                n_IEH= text.find('Inscri\\\"#o Estadual:') + 19\n",
    "                print('\\t\\n IEH: %s'% text[n_IEH:(n_IEH+11)])\n",
    "                \n",
    "                #UFH\n",
    "                n_ufh= text.find('CEP:') - 3\n",
    "                print('\\t\\n UFH: %s'% text[n_ufh:(n_ufh+2)])\n",
    "                \n",
    "                #MESANO\n",
    "                n_mesano= text.find('Per!odo.....:') +12\n",
    "                print('\\t\\n UFH: %s%s'% (text[n_mesano:(n_mesano+3)], text[n_mesano+4:(n_mesano+8)]) )\n",
    "                \n",
    "                #ID\n",
    "                n_id= text.find('ID:') + 3\n",
    "                print('\\t\\n ID: %s \\n\\n'% text[n_id:(n_id+3)])\n",
    "                \n",
    "                # Recuperando os valores do quadro 4.1:\n",
    "                p_quadro41= r\"QUADRO 4.1.*QUADRO 4.2\"\n",
    "                quadro41=re.compile(p_quadro41)\n",
    "                result=quadro41.search(text)\n",
    "                if result:\n",
    "                    p_linha_41=r\"((?:GASOLINA|DIESEL-S10|DIESEL-BXD)(?:[\\s|\\|\\d|\\.|,]*))\"\n",
    "                    linha41=re.compile(p_linha_41)\n",
    "                    if(linha41.search(result[0])):\n",
    "                        print(len(linha41.findall(result[0])))"
   ]
  },
  {
   "cell_type": "code",
   "execution_count": null,
   "metadata": {},
   "outputs": [],
   "source": [
    "try:\n",
    "    from StringIO import StringIO\n",
    "except ImportError:\n",
    "    from io import StringIO\n",
    "from pdfminer.pdfinterp import PDFResourceManager, PDFPageInterpreter\n",
    "from pdfminer.converter import TextConverter\n",
    "from pdfminer.layout import LAParams\n",
    "from pdfminer.pdfpage import PDFPage\n",
    "import os\n",
    "import sys, getopt\n",
    "\n",
    "#converts pdf, returns its text content as a string\n",
    "def convert(fname, pages=None):\n",
    "    if not pages:\n",
    "        pagenums = set()\n",
    "    else:\n",
    "        pagenums = set(pages)\n",
    "\n",
    "    output = StringIO()\n",
    "    manager = PDFResourceManager()\n",
    "    converter = TextConverter(manager, output, laparams=LAParams())\n",
    "    interpreter = PDFPageInterpreter(manager, converter)\n",
    "\n",
    "    infile = open(fname, 'rb')\n",
    "    for page in PDFPage.get_pages(infile, pagenums):\n",
    "        interpreter.process_page(page)\n",
    "    infile.close()\n",
    "    converter.close()\n",
    "    text = output.getvalue()\n",
    "    output.close\n",
    "    return text \n",
    "   \n",
    "def convertMultiple(pdfDir, txtDir):\n",
    "    if pdfDir == \"\": pdfDir = os.getcwd() + \"\\\\\" #if no pdfDir passed in \n",
    "    for pdf in os.listdir(pdfDir): #iterate through pdfs in pdf directory\n",
    "        fileExtension = pdf.split(\".\")[-1]\n",
    "        if fileExtension == \"pdf\":\n",
    "            pdfFilename = pdfDir + pdf \n",
    "            text = convert(pdfFilename) #get string of text content of pdf\n",
    "            textFilename = txtDir + pdf + \".txt\"\n",
    "            textFile = open(textFilename, \"w\") #make text file\n",
    "            textFile.write(text) #write text to text file\n",
    "            #textFile.close\n",
    "\n",
    "pdfDir = \"C:/usuario/MarcoCanedo/OneDrive/Secom/Projetos/ressarcimento/Pdfminer/pdf/\"\n",
    "txtDir = \"C:/usuario/MarcoCanedo/OneDrive/Secom/Projetos/ressarcimento/Pdfminer/txt/\"\n",
    "convertMultiple(pdfDir, txtDir)b"
   ]
  },
  {
   "cell_type": "code",
   "execution_count": null,
   "metadata": {},
   "outputs": [],
   "source": [
    "#textFilename = txtDir + pdf + \".txt\"\n",
    "            #textFile = open(textFilename, \"w\") #make text file\n",
    "            #textFile.write(text) #write text to text file\n",
    "            #textFile.close\n",
    "            #convertedPDF = convert('text', filePDF, pages=[0,1])\n",
    "            #fileConverted = open(fileTXT, \"w\")"
   ]
  }
 ],
 "metadata": {
  "kernelspec": {
   "display_name": "Python 3",
   "language": "python",
   "name": "python3"
  },
  "language_info": {
   "codemirror_mode": {
    "name": "ipython",
    "version": 3
   },
   "file_extension": ".py",
   "mimetype": "text/x-python",
   "name": "python",
   "nbconvert_exporter": "python",
   "pygments_lexer": "ipython3",
   "version": "3.6.6"
  },
  "toc": {
   "base_numbering": "1",
   "nav_menu": {},
   "number_sections": true,
   "sideBar": true,
   "skip_h1_title": true,
   "title_cell": "Índice",
   "title_sidebar": "Índice",
   "toc_cell": true,
   "toc_position": {
    "height": "calc(100% - 180px)",
    "left": "10px",
    "top": "150px",
    "width": "165px"
   },
   "toc_section_display": true,
   "toc_window_display": true
  }
 },
 "nbformat": 4,
 "nbformat_minor": 2
}
