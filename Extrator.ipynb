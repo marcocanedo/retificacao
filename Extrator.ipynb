{
 "cells": [
  {
   "cell_type": "markdown",
   "metadata": {
    "toc": true
   },
   "source": [
    "<h1>Sumário<span class=\"tocSkip\"></span></h1>\n",
    "<div class=\"toc\"><ul class=\"toc-item\"><li><span><a href=\"#Coversão-dos-aqruivos-PDF-em-TXT-(Multiplos-Arquivos)\" data-toc-modified-id=\"Coversão-dos-aqruivos-PDF-em-TXT-(Multiplos-Arquivos)-1\"><span class=\"toc-item-num\">1&nbsp;&nbsp;</span>Coversão dos aqruivos PDF em TXT (Multiplos Arquivos)</a></span></li></ul></div>"
   ]
  },
  {
   "cell_type": "markdown",
   "metadata": {},
   "source": [
    "# Projeto Retificação\n",
    "   > Conversão PDF em Txt"
   ]
  },
  {
   "cell_type": "code",
   "execution_count": null,
   "metadata": {},
   "outputs": [],
   "source": []
  },
  {
   "cell_type": "code",
   "execution_count": null,
   "metadata": {},
   "outputs": [],
   "source": [
    "try:\n",
    "    from StringIO import StringIO\n",
    "except ImportError:\n",
    "    from io import StringIO\n",
    "from pdfminer.pdfinterp import PDFResourceManager, PDFPageInterpreter\n",
    "from pdfminer.converter import TextConverter\n",
    "from pdfminer.layout import LAParams\n",
    "from pdfminer.pdfpage import PDFPage\n",
    "import os\n",
    "import sys, getopt\n",
    "\n",
    "#converts pdf, returns its text content as a string\n",
    "def convert(fname, pages=None):\n",
    "    if not pages:\n",
    "        pagenums = set()\n",
    "    else:\n",
    "        pagenums = set(pages)\n",
    "\n",
    "    output = StringIO()\n",
    "    manager = PDFResourceManager()\n",
    "    converter = TextConverter(manager, output, laparams=LAParams())\n",
    "    interpreter = PDFPageInterpreter(manager, converter)\n",
    "\n",
    "    infile = open(fname, 'rb')\n",
    "    for page in PDFPage.get_pages(infile, pagenums):\n",
    "        interpreter.process_page(page)\n",
    "    infile.close()\n",
    "    converter.close()\n",
    "    text = output.getvalue()\n",
    "    output.close\n",
    "    return text \n",
    "   \n",
    "def convertMultiple(pdfDir, txtDir):\n",
    "    if pdfDir == \"\": pdfDir = os.getcwd() + \"\\\\\" #if no pdfDir passed in \n",
    "    for pdf in os.listdir(pdfDir): #iterate through pdfs in pdf directory\n",
    "        fileExtension = pdf.split(\".\")[-1]\n",
    "        if fileExtension == \"pdf\":\n",
    "            pdfFilename = pdfDir + pdf \n",
    "            text = convert(pdfFilename) #get string of text content of pdf\n",
    "            textFilename = txtDir + pdf + \".txt\"\n",
    "            textFile = open(textFilename, \"w\") #make text file\n",
    "            textFile.write(text) #write text to text file\n",
    "            #textFile.close\n",
    "\n",
    "pdfDir = \"C:/usuario/MarcoCanedo/OneDrive/Secom/Projetos/ressarcimento/Pdfminer/pdf/\"\n",
    "txtDir = \"C:/usuario/MarcoCanedo/OneDrive/Secom/Projetos/ressarcimento/Pdfminer/txt/\"\n",
    "convertMultiple(pdfDir, txtDir)"
   ]
  },
  {
   "cell_type": "markdown",
   "metadata": {},
   "source": [
    "## Coversão dos aqruivos PDF em TXT (Multiplos Arquivos)"
   ]
  },
  {
   "cell_type": "code",
   "execution_count": 41,
   "metadata": {
    "cell_style": "center",
    "code_folding": []
   },
   "outputs": [],
   "source": [
    "from pdfminer.pdfinterp import PDFResourceManager, PDFPageInterpreter\n",
    "from pdfminer.converter import HTMLConverter,TextConverter,XMLConverter\n",
    "from pdfminer.layout import LAParams\n",
    "from pdfminer.pdfpage import PDFPage\n",
    "import io \n",
    "import os\n",
    "import sys, getopt\n",
    "\n",
    "def convert(fname, pages=None,case='text'):\n",
    "    if not pages: pagenums = set();\n",
    "    else:         pagenums = set(pages);      \n",
    "    manager = PDFResourceManager() \n",
    "    codec = 'utf-8'\n",
    "    caching = True\n",
    "    if case == 'text' :\n",
    "        output = io.StringIO()\n",
    "        converter = TextConverter(manager, output, codec=codec, laparams=LAParams())     \n",
    "    if case == 'HTML' :\n",
    "        output = io.BytesIO()\n",
    "        converter = HTMLConverter(manager, output, codec=codec, laparams=LAParams())\n",
    "\n",
    "    interpreter = PDFPageInterpreter(manager, converter)   \n",
    "    infile = open(fname, 'rb')\n",
    "    for page in PDFPage.get_pages(infile, pagenums,caching=caching, check_extractable=True):\n",
    "        interpreter.process_page(page)\n",
    "\n",
    "    convertedPDF = output.getvalue()  \n",
    "\n",
    "    infile.close(); converter.close(); output.close()\n",
    "    return convertedPDF\n",
    "\n",
    "\n",
    "def convertMultiple(pdfDir, txtDir):\n",
    "    if pdfDir == \"\": pdfDir = os.getcwd() + \"\\\\\" #if no pdfDir passed in \n",
    "    for pdf in os.listdir(pdfDir): #iterate through pdfs in pdf directory\n",
    "        fileExtension = pdf.split(\".\")[-1]\n",
    "        if fileExtension == \"pdf\" or fileExtension == \"PDF\":\n",
    "            pdfFilename = pdfDir + pdf \n",
    "            text = convert(pdfFilename) #get string of text content of pdf\n",
    "            # separa por tipo de anexo\n",
    "            if 'ANEXO III' in text:\n",
    "                \n",
    "                #recupera os campos principais\n",
    "                \n",
    "                print(pdf)\n",
    "                #print(text)\n",
    "                \n",
    "                #CPJH\n",
    "                n_cnpjh= text.find('CNPJ........:') + 13\n",
    "                print('\\t\\n CNPJH: %s'% text[n_cnpjh:(n_cnpjh+18)])\n",
    "                \n",
    "                #IEH\n",
    "                n_IEH= text.find('Inscri\\\"#o Estadual:') + 19\n",
    "                print('\\t\\n IEH: %s'% text[n_IEH:(n_IEH+11)])\n",
    "                \n",
    "                #UFH\n",
    "                n_ufh= text.find('CEP:') - 3\n",
    "                print('\\t\\n UFH: %s'% text[n_ufh:(n_ufh+2)])\n",
    "                \n",
    "                #MESANO\n",
    "                n_mesano= text.find('Per!odo.....:') +12\n",
    "                print('\\t\\n UFH: %s%s'% (text[n_mesano:(n_mesano+3)], text[n_mesano+4:(n_mesano+8)]) )\n",
    "                \n",
    "                #ID\n",
    "                n_id= text.find('ID:') + 3\n",
    "                print('\\t\\n ID: %s \\n\\n'% text[n_id:(n_id+3)])\n",
    "                \n",
    "                # Recuperando os valores do quadro 2:\n",
    "                \n",
    "                \n",
    "            #textFilename = txtDir + pdf + \".txt\"\n",
    "            #textFile = open(textFilename, \"w\") #make text file\n",
    "            #textFile.write(text) #write text to text file\n",
    "            #textFile.close\n",
    "            #convertedPDF = convert('text', filePDF, pages=[0,1])\n",
    "            #fileConverted = open(fileTXT, \"w\")"
   ]
  },
  {
   "cell_type": "code",
   "execution_count": 42,
   "metadata": {
    "cell_style": "center",
    "code_folding": [],
    "scrolled": false
   },
   "outputs": [
    {
     "name": "stdout",
     "output_type": "stream",
     "text": [
      "00209895000250_253205735_SC_012018_ANEXO3_ID007.pdf\n",
      "\t\n",
      " CNPJH: 00.209.895/0002-50\n",
      "\t\n",
      " IEH: 253.205.735\n",
      "\t\n",
      " UFH: SC\n",
      "\t\n",
      " UFH: :012018\n",
      "\t\n",
      " ID: 007 \n",
      "\n",
      "\n",
      "00209895000250_253205735_SC_012018_ANEXO3_ID008.pdf\n",
      "\t\n",
      " CNPJH: 00.209.895/0002-50\n",
      "\t\n",
      " IEH: 253.205.735\n",
      "\t\n",
      " UFH: SC\n",
      "\t\n",
      " UFH: :012018\n",
      "\t\n",
      " ID: 008 \n",
      "\n",
      "\n",
      "00209895000330_9014022721_PR_012018_ANEXO3_ID015.pdf\n",
      "\t\n",
      " CNPJH: 00.209.895/0003-30\n",
      "\t\n",
      " IEH: 90140227-21\n",
      "\t\n",
      " UFH: PR\n",
      "\t\n",
      " UFH: :012018\n",
      "\t\n",
      " ID: 015 \n",
      "\n",
      "\n"
     ]
    }
   ],
   "source": [
    "# Principal\n",
    "pdfDir = \"C:/Users/01481911775/Documents/Pessoal/SECOM/projetos/Ressarcimento/SCANC/retificao/PDF/\"\n",
    "txtDir = \"C:/Users/01481911775/Documents/Pessoal/SECOM/projetos/Ressarcimento/SCANC/retificao/TXT/\"\n",
    "convertMultiple(pdfDir, txtDir)\n",
    "#fileConverted.write(convertedPDF)\n",
    "#fileConverted.close()\n",
    "#print(convertedPDF) "
   ]
  },
  {
   "cell_type": "code",
   "execution_count": null,
   "metadata": {},
   "outputs": [],
   "source": [
    "Inscri\"#o Estadual"
   ]
  }
 ],
 "metadata": {
  "kernelspec": {
   "display_name": "Python 3",
   "language": "python",
   "name": "python3"
  },
  "language_info": {
   "codemirror_mode": {
    "name": "ipython",
    "version": 3
   },
   "file_extension": ".py",
   "mimetype": "text/x-python",
   "name": "python",
   "nbconvert_exporter": "python",
   "pygments_lexer": "ipython3",
   "version": "3.6.6"
  },
  "toc": {
   "base_numbering": "1",
   "nav_menu": {},
   "number_sections": true,
   "sideBar": true,
   "skip_h1_title": true,
   "title_cell": "Sumário",
   "title_sidebar": "Contents",
   "toc_cell": true,
   "toc_position": {
    "height": "calc(100% - 180px)",
    "left": "10px",
    "top": "150px",
    "width": "165px"
   },
   "toc_section_display": true,
   "toc_window_display": false
  }
 },
 "nbformat": 4,
 "nbformat_minor": 2
}
